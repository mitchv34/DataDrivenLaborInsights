{
 "cells": [
  {
   "cell_type": "code",
   "execution_count": null,
   "metadata": {},
   "outputs": [
    {
     "name": "stdout",
     "output_type": "stream",
     "text": [
      "Failed to download https://www.dol.gov/sites/dolgov/files/ETA/oflc/pdfs/PERM_Disclosure_Data_FY2008_Q1.xlsx\n",
      "Failed to download https://www.dol.gov/sites/dolgov/files/ETA/oflc/pdfs/PERM_Disclosure_Data_FY2008_Q2.xlsx\n",
      "Failed to download https://www.dol.gov/sites/dolgov/files/ETA/oflc/pdfs/PERM_Disclosure_Data_FY2008_Q3.xlsx\n",
      "Failed to download https://www.dol.gov/sites/dolgov/files/ETA/oflc/pdfs/PERM_Disclosure_Data_FY2008_Q4.xlsx\n",
      "No quarters downloaded for PERM in 2008\n",
      "Downloaded https://www.dol.gov/sites/dolgov/files/ETA/oflc/pdfs/PERM_FY2008.xlsx\n"
     ]
    }
   ],
   "source": [
    "import os\n",
    "import requests\n",
    "\n",
    "# Programs\n",
    "programs = [\"PERM\", \"H2-A\", \"H2-B\", \"LCA\"]\n",
    "# Years\n",
    "years = list(range(2008, 2025))\n",
    "# Start with the most recent year\n",
    "# years.reverse()\n",
    "# Quarters\n",
    "quarters = [\"Q1\", \"Q2\", \"Q3\", \"Q4\"]\n",
    "# Start with the most recent quarter\n",
    "# quarters.reverse()\n",
    "\n",
    "def download_file(url, save_dir, file_name):\n",
    "    # Create the directory if it doesn't exist\n",
    "    os.makedirs(save_dir, exist_ok=True)\n",
    "    # Send a GET request to the URL\n",
    "    response = requests.get(url)\n",
    "    # Check if the request was successful\n",
    "    if response.status_code == 200:\n",
    "        # Define the file path\n",
    "        file_path = os.path.join(save_dir, file_name)\n",
    "        # Write the content to the file\n",
    "        with open(file_path, 'wb') as f:\n",
    "            f.write(response.content)\n",
    "        return True\n",
    "    else:\n",
    "        return False\n",
    "\n",
    "# Download directory\n",
    "DOWNLOAD_DIR = \"/Users/mitchv34/Work/DataDrivenLaborInsights/LCA_Disclosure_Skills/data/raw/\"\n",
    "\n",
    "# Loop through all combinations of programs, years, and quarters\n",
    "for p in programs[:1]:  # Limit to the first program for testing\n",
    "    for y in years[:1]:  # Limit to the first year for testing\n",
    "        quarters_downloaded = []\n",
    "        for q in quarters:\n",
    "            # Construct the URL and file name\n",
    "            url = f\"https://www.dol.gov/sites/dolgov/files/ETA/oflc/pdfs/{p}_Disclosure_Data_FY{y}_{q}.xlsx\"\n",
    "            file_name = DOWNLOAD_DIR + f\"{p}_Disclosure_Data_FY{y}_{q}.xlsx\"\n",
    "            # Attempt to download the file\n",
    "            if download_file(url, \"/Users/mitchv34/Work/DataDrivenLaborInsights/LCA_Disclosure_Skills/data/raw\", file_name):\n",
    "                quarters_downloaded.append(q)\n",
    "                print(f\"Downloaded {url}\")\n",
    "            else:\n",
    "                print(f\"Failed to download {url}\")\n",
    "            \n",
    "        if len(quarters_downloaded) == 0:\n",
    "            print(f\"No quarters downloaded for {p} in {y}\")\n",
    "            # Download the file without the quarter if no quarters were downloaded\n",
    "            url = f\"https://www.dol.gov/sites/dolgov/files/ETA/oflc/pdfs/{p}_FY{y}.xlsx\"\n",
    "            file_name = DOWNLOAD_DIR + f\"{p}_Disclosure_Data_FY{y}.xlsx\"\n",
    "            if download_file(url, \"/Users/mitchv34/Work/DataDrivenLaborInsights/LCA_Disclosure_Skills/data/raw\", file_name):\n",
    "                print(f\"Downloaded {url}\")\n",
    "            else:\n",
    "                print(f\"Failed to download {url}\")"
   ]
  },
  {
   "cell_type": "code",
   "execution_count": null,
   "metadata": {},
   "outputs": [],
   "source": [
    "https://www.dol.gov/sites/dolgov/files/ETA/oflc/pdfs/PERM_Disclosure_Data_FY2008.xlsx\n",
    "https://www.dol.gov/sites/dolgov/files/ETA/oflc/pdfs/H2A_FY2008.xlsx\n",
    "https://www.dol.gov/sites/dolgov/files/ETA/oflc/pdfs/PERM_FY2008.xlsx"
   ]
  }
 ],
 "metadata": {
  "kernelspec": {
   "display_name": "base",
   "language": "python",
   "name": "python3"
  },
  "language_info": {
   "codemirror_mode": {
    "name": "ipython",
    "version": 3
   },
   "file_extension": ".py",
   "mimetype": "text/x-python",
   "name": "python",
   "nbconvert_exporter": "python",
   "pygments_lexer": "ipython3",
   "version": "3.12.4"
  }
 },
 "nbformat": 4,
 "nbformat_minor": 2
}
