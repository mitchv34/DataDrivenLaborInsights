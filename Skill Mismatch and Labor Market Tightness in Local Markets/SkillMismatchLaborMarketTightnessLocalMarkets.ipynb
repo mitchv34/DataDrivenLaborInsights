{
 "cells": [
  {
   "cell_type": "markdown",
   "metadata": {},
   "source": [
    "# Skill Mismatch and Labor Market Tightness in Local Markets\n",
    "\n",
    "This notebook outlines the steps to measure the degree of skill mismatch between employer demands and worker supply across U.S. metropolitan areas. The analysis uses data from O*NET, BLS JOLTS, and the Census Bureau.\n",
    "\n",
    "The goal is to compute:\n",
    "1. A skill mismatch index (SMI) for each region.\n",
    "2. Labor market tightness by region.\n",
    "3. Visualize these metrics and offer policy recommendations.\n"
   ]
  },
  {
   "cell_type": "markdown",
   "metadata": {},
   "source": [
    "## Step 1: Data Acquisition\n",
    "\n",
    "In this step, we will load the necessary datasets from O*NET, BLS JOLTS, and Census Bureau. We assume that the datasets are saved as CSV files, but they may come in other formats (e.g., Excel, JSON). Replace the placeholders with actual file paths.\n",
    "\n",
    "### O*NET Data\n",
    "O*NET provides detailed information about the skills required for each occupation.\n",
    "\n",
    "### BLS JOLTS Data\n",
    "BLS JOLTS data contains information about job openings, hires, and separations by region.\n",
    "\n",
    "### Census Bureau Data\n",
    "The Census Bureau provides workforce characteristics by region, including education, occupation distribution, and unemployment data.\n"
   ]
  },
  {
   "cell_type": "code",
   "execution_count": null,
   "metadata": {},
   "outputs": [],
   "source": [
    "import pandas as pd\n",
    "\n",
    "# Load O*NET data\n",
    "onet_data = pd.read_csv('onet_skills.csv')  # Replace with actual file path\n",
    "\n",
    "# Load BLS JOLTS data\n",
    "jolts_data = pd.read_csv('jolts_vacancies.csv')  # Replace with actual file path\n",
    "\n",
    "# Load Census Bureau data\n",
    "census_data = pd.read_csv('census_workforce.csv')  # Replace with actual file path\n"
   ]
  },
  {
   "cell_type": "markdown",
   "metadata": {},
   "source": [
    "## Step 2: Data Cleaning and Preprocessing\n",
    "\n",
    "In this step, we will clean and merge the datasets on common keys, such as occupation codes and region codes. We will also handle missing values and ensure the data is in a usable format for further analysis."
   ]
  },
  {
   "cell_type": "code",
   "execution_count": null,
   "metadata": {},
   "outputs": [],
   "source": [
    "# Merge datasets on common keys (occupation code and region code)\n",
    "merged_data = onet_data.merge(jolts_data, on='occupation_code', how='inner')\n",
    "merged_data = merged_data.merge(census_data, on='region_code', how='inner')\n",
    "\n",
    "# Check for missing values\n",
    "merged_data.isnull().sum()\n",
    "\n",
    "# Fill missing values with median for numeric columns (you can modify this as needed)\n",
    "merged_data.fillna(merged_data.median(), inplace=True)  # Example for numeric data\n"
   ]
  },
  {
   "cell_type": "markdown",
   "metadata": {},
   "source": [
    "## Step 3: Initial Calculations\n",
    "\n",
    "In this step, we will calculate the Skill Mismatch Index (SMI) and Labor Market Tightness.\n",
    "\n",
    "### Skill Mismatch Index (SMI)\n",
    "The Skill Mismatch Index measures the difference between the share of workers possessing a skill and the share of job vacancies requiring that skill.\n",
    "\n",
    "### Labor Market Tightness\n",
    "Labor market tightness is defined as the ratio of vacancies to unemployed workers. This provides a measure of how tight the labor market is.\n"
   ]
  },
  {
   "cell_type": "code",
   "execution_count": null,
   "metadata": {},
   "outputs": [],
   "source": [
    "# Define function to compute Skill Mismatch Index (SMI) for each region and skill category\n",
    "def compute_smi(worker_skills, job_vacancies):\n",
    "    mismatch = abs(worker_skills - job_vacancies)\n",
    "    return mismatch.sum()\n",
    "\n",
    "# Apply the SMI calculation to the merged dataset (assuming 'worker_skill_share' and 'job_vacancy_share' columns)\n",
    "merged_data['skill_mismatch'] = merged_data.apply(\n",
    "    lambda x: compute_smi(x['worker_skill_share'], x['job_vacancy_share']), axis=1\n",
    ")\n",
    "\n",
    "# Calculate labor market tightness (vacancies / unemployed)\n",
    "merged_data['tightness'] = merged_data['vacancies'] / merged_data['unemployed']\n"
   ]
  },
  {
   "cell_type": "markdown",
   "metadata": {},
   "source": [
    "## Step 4: Visualization and Analysis\n",
    "\n",
    "Now that we have calculated the Skill Mismatch Index and labor market tightness, we can visualize the results. We will create:\n",
    "1. A heatmap showing skill mismatch by region.\n",
    "2. A scatter plot displaying the relationship between labor market tightness and skill mismatch.\n",
    "\n",
    "These visualizations will help identify regions with high mismatch and tight labor markets.\n"
   ]
  },
  {
   "cell_type": "code",
   "execution_count": null,
   "metadata": {},
   "outputs": [],
   "source": [
    "import matplotlib.pyplot as plt\n",
    "import seaborn as sns\n",
    "\n",
    "# Heatmap of Skill Mismatch by Region\n",
    "plt.figure(figsize=(12, 8))\n",
    "sns.heatmap(merged_data.pivot('region_name', 'skill_category', 'skill_mismatch'), cmap=\"YlGnBu\", annot=True)\n",
    "plt.title(\"Skill Mismatch by Region\")\n",
    "plt.xlabel(\"Skill Category\")\n",
    "plt.ylabel(\"Region\")\n",
    "plt.show()\n"
   ]
  },
  {
   "cell_type": "code",
   "execution_count": null,
   "metadata": {},
   "outputs": [],
   "source": [
    "\n",
    "# Scatter plot of Labor Market Tightness vs. Skill Mismatch\n",
    "plt.figure(figsize=(10, 6))\n",
    "plt.scatter(merged_data['tightness'], merged_data['skill_mismatch'], alpha=0.6)\n",
    "plt.title(\"Labor Market Tightness vs. Skill Mismatch\")\n",
    "plt.xlabel(\"Labor Market Tightness\")\n",
    "plt.ylabel(\"Skill Mismatch\")\n",
    "plt.show()"
   ]
  }
 ],
 "metadata": {
  "language_info": {
   "name": "python"
  }
 },
 "nbformat": 4,
 "nbformat_minor": 2
}
